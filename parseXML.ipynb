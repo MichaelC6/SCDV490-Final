{
 "cells": [
  {
   "cell_type": "code",
   "execution_count": 1,
   "metadata": {},
   "outputs": [],
   "source": [
    "import pandas as pd\n",
    "import xml.etree.ElementTree as ET\n",
    "import overpy\n",
    "import os"
   ]
  },
  {
   "cell_type": "code",
   "execution_count": 14,
   "metadata": {},
   "outputs": [],
   "source": [
    "def parseXML(path):\n",
    "    tree = ET.parse(path)\n",
    "    root = tree.getroot()\n",
    "    return root"
   ]
  },
  {
   "cell_type": "code",
   "execution_count": 15,
   "metadata": {},
   "outputs": [
    {
     "name": "stdout",
     "output_type": "stream",
     "text": [
      "/Users/michael/Developer/SCDV490-Final/sampleData/test.xml\n"
     ]
    }
   ],
   "source": [
    "path = os.path.join(os.getcwd(),\"sampleData\",\"test.xml\")\n",
    "print(path)"
   ]
  },
  {
   "cell_type": "code",
   "execution_count": 17,
   "metadata": {},
   "outputs": [],
   "source": [
    "root = parseXML(path)"
   ]
  },
  {
   "cell_type": "code",
   "execution_count": 20,
   "metadata": {},
   "outputs": [
    {
     "name": "stdout",
     "output_type": "stream",
     "text": [
      "<Element 'note' at 0x2fb07c8b0>\n",
      "<Element 'meta' at 0x2fb07c950>\n",
      "<Element 'node' at 0x2fb07c9f0>\n",
      "<Element 'node' at 0x2fb07ca90>\n",
      "<Element 'node' at 0x2fb07cb30>\n"
     ]
    }
   ],
   "source": [
    "for node in root[0:5]:\n",
    "    node.\n",
    "    print(node)"
   ]
  },
  {
   "cell_type": "code",
   "execution_count": 13,
   "metadata": {},
   "outputs": [
    {
     "name": "stdout",
     "output_type": "stream",
     "text": [
      "node\n",
      "id\n",
      "lat\n",
      "lon\n",
      "version\n",
      "timestamp\n",
      "changeset\n",
      "uid\n",
      "user\n",
      "\n",
      "\n",
      "node\n",
      "id\n",
      "lat\n",
      "lon\n",
      "version\n",
      "timestamp\n",
      "changeset\n",
      "uid\n",
      "user\n",
      "\n",
      "\n",
      "node\n",
      "id\n",
      "lat\n",
      "lon\n",
      "version\n",
      "timestamp\n",
      "changeset\n",
      "uid\n",
      "user\n",
      "\n",
      "\n",
      "node\n",
      "id\n",
      "lat\n",
      "lon\n",
      "version\n",
      "timestamp\n",
      "changeset\n",
      "uid\n",
      "user\n",
      "\n",
      "\n",
      "node\n",
      "id\n",
      "lat\n",
      "lon\n",
      "version\n",
      "timestamp\n",
      "changeset\n",
      "uid\n",
      "user\n",
      "\n",
      "\n"
     ]
    }
   ],
   "source": [
    "for child in children[615:620]:\n",
    "    print(child[0])\n",
    "    for grandchild in child[1]:\n",
    "        print(grandchild)\n",
    "    print()\n",
    "    print()\n",
    "    "
   ]
  },
  {
   "cell_type": "code",
   "execution_count": null,
   "metadata": {},
   "outputs": [],
   "source": []
  }
 ],
 "metadata": {
  "kernelspec": {
   "display_name": "ChargingNetwork",
   "language": "python",
   "name": "python3"
  },
  "language_info": {
   "codemirror_mode": {
    "name": "ipython",
    "version": 3
   },
   "file_extension": ".py",
   "mimetype": "text/x-python",
   "name": "python",
   "nbconvert_exporter": "python",
   "pygments_lexer": "ipython3",
   "version": "3.8.16"
  },
  "orig_nbformat": 4
 },
 "nbformat": 4,
 "nbformat_minor": 2
}
