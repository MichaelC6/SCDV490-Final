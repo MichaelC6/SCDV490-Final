{
 "cells": [
  {
   "cell_type": "markdown",
   "source": [
    "This is a sample file to run functions in utilities"
   ],
   "metadata": {
    "collapsed": false
   }
  },
  {
   "cell_type": "code",
   "execution_count": 7,
   "metadata": {
    "collapsed": true
   },
   "outputs": [],
   "source": [
    "import os\n",
    "path = os.getcwd()"
   ]
  },
  {
   "cell_type": "code",
   "execution_count": 8,
   "outputs": [
    {
     "data": {
      "text/plain": "    fruit   color  price  quantity\n0   apple     red     10         5\n1   grape  purple     15        25\n2    kiwi   green      5        15\n3  orange  orange     25        10\n4    plum  purple     10        25",
      "text/html": "<div>\n<style scoped>\n    .dataframe tbody tr th:only-of-type {\n        vertical-align: middle;\n    }\n\n    .dataframe tbody tr th {\n        vertical-align: top;\n    }\n\n    .dataframe thead th {\n        text-align: right;\n    }\n</style>\n<table border=\"1\" class=\"dataframe\">\n  <thead>\n    <tr style=\"text-align: right;\">\n      <th></th>\n      <th>fruit</th>\n      <th>color</th>\n      <th>price</th>\n      <th>quantity</th>\n    </tr>\n  </thead>\n  <tbody>\n    <tr>\n      <th>0</th>\n      <td>apple</td>\n      <td>red</td>\n      <td>10</td>\n      <td>5</td>\n    </tr>\n    <tr>\n      <th>1</th>\n      <td>grape</td>\n      <td>purple</td>\n      <td>15</td>\n      <td>25</td>\n    </tr>\n    <tr>\n      <th>2</th>\n      <td>kiwi</td>\n      <td>green</td>\n      <td>5</td>\n      <td>15</td>\n    </tr>\n    <tr>\n      <th>3</th>\n      <td>orange</td>\n      <td>orange</td>\n      <td>25</td>\n      <td>10</td>\n    </tr>\n    <tr>\n      <th>4</th>\n      <td>plum</td>\n      <td>purple</td>\n      <td>10</td>\n      <td>25</td>\n    </tr>\n  </tbody>\n</table>\n</div>"
     },
     "execution_count": 8,
     "metadata": {},
     "output_type": "execute_result"
    }
   ],
   "source": [
    "from utilities.preProcessing import getDataFrame\n",
    "\n",
    "df = getDataFrame(path+\"/sampleData/testData.csv\")\n",
    "\n",
    "df"
   ],
   "metadata": {
    "collapsed": false
   }
  },
  {
   "cell_type": "code",
   "execution_count": null,
   "outputs": [],
   "source": [
    "df"
   ],
   "metadata": {
    "collapsed": false
   }
  }
 ],
 "metadata": {
  "kernelspec": {
   "display_name": "Python 3",
   "language": "python",
   "name": "python3"
  },
  "language_info": {
   "codemirror_mode": {
    "name": "ipython",
    "version": 2
   },
   "file_extension": ".py",
   "mimetype": "text/x-python",
   "name": "python",
   "nbconvert_exporter": "python",
   "pygments_lexer": "ipython2",
   "version": "2.7.6"
  }
 },
 "nbformat": 4,
 "nbformat_minor": 0
}
