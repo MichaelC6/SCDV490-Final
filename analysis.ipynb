{
 "cells": [
  {
   "cell_type": "markdown",
   "metadata": {
    "jupyter": {
     "outputs_hidden": true
    }
   },
   "source": [
    "# Analysis\n",
    "\n",
    "Analysis notebook of our output results"
   ]
  },
  {
   "cell_type": "code",
   "execution_count": null,
   "metadata": {},
   "outputs": [],
   "source": [
    "# imports\n",
    "import os\n",
    "from util.preProcessing import *\n",
    "import pandas as pd\n",
    "import numpy as np\n",
    "import matplotlib.pyplot as plt\n",
    "import plotly.express as px\n",
    "#px.set_mapbox_access_token(open(\"~/.mapbox_token\").read())\n",
    "import plotly.graph_objects as go"
   ]
  },
  {
   "cell_type": "code",
   "execution_count": null,
   "metadata": {},
   "outputs": [],
   "source": [
    "datadir = os.path.join(os.getcwd(), 'sampleData')\n",
    "resultfile = os.path.join(datadir, 'test.xml')\n",
    "\n",
    "result = readXML(resultfile)"
   ]
  },
  {
   "cell_type": "code",
   "execution_count": null,
   "metadata": {},
   "outputs": [],
   "source": [
    "# make plot of every single node we have\n",
    "#print(result.nodes)\n",
    "coords = {'id':[], 'lat':[], 'long':[]}\n",
    "for n in result.nodes:\n",
    "    coords['id'].append(n.id)\n",
    "    coords['lat'].append(n.lat)\n",
    "    coords['long'].append(n.lon)\n",
    "    \n",
    "coords = pd.DataFrame(coords)"
   ]
  },
  {
   "cell_type": "code",
   "execution_count": null,
   "metadata": {},
   "outputs": [],
   "source": [
    "# use plotly express to create the map\n",
    "# borrowed from: https://stackoverflow.com/questions/53233228/plot-latitude-longitude-from-csv-in-python-3-6\n",
    "\n",
    "fig = px.scatter_geo(coords,lat='lat',lon='long', hover_name=\"id\", scope='usa')\n",
    "fig.update_layout(mapbox_style=\"open-street-map\", \n",
    "                  margin={\"r\":0,\"t\":0,\"l\":0,\"b\":0}, \n",
    "                  autosize=False)\n",
    "fig.write_image('all-nodes-usa.png', format='png')"
   ]
  },
  {
   "cell_type": "code",
   "execution_count": null,
   "metadata": {
    "tags": []
   },
   "outputs": [],
   "source": [
    "fig = px.scatter_geo(coords,lat='lat',lon='long', hover_name=\"id\", scope='usa')\n",
    "fig.update_layout(mapbox_style=\"open-street-map\", \n",
    "                  margin={\"r\":0,\"t\":0,\"l\":0,\"b\":0}, \n",
    "                  autosize=False)\n",
    "fig.update_geos(lataxis_range=[min(coords.lat), max(coords.lat)], lonaxis_range=[min(coords.long), max(coords.long)])\n",
    "fig.write_image('all-nodes-zoomed.png', format='png')"
   ]
  },
  {
   "cell_type": "code",
   "execution_count": null,
   "metadata": {},
   "outputs": [],
   "source": []
  }
 ],
 "metadata": {
  "kernelspec": {
   "display_name": "ChargingNetwork",
   "language": "python",
   "name": "chargingnetwork"
  },
  "language_info": {
   "codemirror_mode": {
    "name": "ipython",
    "version": 3
   },
   "file_extension": ".py",
   "mimetype": "text/x-python",
   "name": "python",
   "nbconvert_exporter": "python",
   "pygments_lexer": "ipython3",
   "version": "3.8.16"
  }
 },
 "nbformat": 4,
 "nbformat_minor": 4
}
