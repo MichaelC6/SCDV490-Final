{
 "cells": [
  {
   "cell_type": "markdown",
   "metadata": {
    "jupyter": {
     "outputs_hidden": true
    }
   },
   "source": [
    "# Analysis\n",
    "\n",
    "Analysis notebook of our output results"
   ]
  },
  {
   "cell_type": "code",
   "execution_count": null,
   "metadata": {
    "tags": []
   },
   "outputs": [],
   "source": [
    "import sys\n",
    "import os\n",
    "import glob\n",
    "import pickle\n",
    "import numpy as np\n",
    "import pandas as pd\n",
    "import matplotlib.pyplot as plt\n",
    "from matplotlib.colors import LogNorm\n",
    "import matplotlib.font_manager as font_manager\n",
    "import plotly.graph_objects as go\n",
    "import plotly.express as px\n",
    "\n",
    "sys.path.append(os.path.join(os.getcwd(), 'util'))\n",
    "from makePlots import *\n",
    "\n",
    "plt.style.use(os.path.join(os.getcwd(), 'charging-network.mplstyle'))"
   ]
  },
  {
   "cell_type": "markdown",
   "metadata": {},
   "source": [
    "### Plot Heatmap for Rhode Island Nodes as a test"
   ]
  },
  {
   "cell_type": "code",
   "execution_count": null,
   "metadata": {},
   "outputs": [],
   "source": [
    "# load in the data\n",
    "picklepath = os.path.join('data', 'pickle')\n",
    "csvpath = os.path.join('data', 'csvs')\n",
    "pickles = glob.glob(os.path.join(picklepath, '*.pkl'))\n",
    "csvs = glob.glob(os.path.join(csvpath, '*.csv'))\n",
    "\n",
    "networkNodes = []\n",
    "allNodes = []\n",
    "centers = []\n",
    "tot = len(csvs)\n",
    "stateNames = []\n",
    "nodesNY = None\n",
    "centersNY = None\n",
    "for ii in range(tot):\n",
    "    csv = csvs[ii]\n",
    "    pkl = pickles[ii]\n",
    "    \n",
    "    # read in the csv for this state\n",
    "    df = pd.read_csv(csv)\n",
    "    stateName = os.path.split(csv)[-1].replace('-out.csv', '')\n",
    "    df['state_name'] = [stateName] * len(df)\n",
    "    networkNodes.append(df)\n",
    "    \n",
    "    # read in the pickle file for this state\n",
    "    with open(pkl, 'rb') as f:\n",
    "        data = np.array(pickle.load(f), dtype=object)\n",
    "    \n",
    "    centers.append(np.array([np.array(d) for d in data[:,0]]))\n",
    "    allNodes.append(data[:,1])\n",
    "    stateNames.append(stateName)\n",
    "    \n",
    "    if stateName == 'new-york':\n",
    "        centersNY = np.array([np.array(d) for d in data[:,0]])\n",
    "        nodesNY = data[:,1]\n",
    "        \n",
    "# reformat data\n",
    "netNodes = pd.concat(networkNodes).reset_index(drop=True)\n",
    "\n",
    "allCenters = np.concatenate(centers)\n",
    "nodes = np.concatenate(allNodes)"
   ]
  },
  {
   "cell_type": "code",
   "execution_count": null,
   "metadata": {
    "tags": []
   },
   "outputs": [],
   "source": [
    "# create a heatmap of all of the nodes in the dataset\n",
    "fig, ax = plt.subplots()\n",
    "s = 10\n",
    "n = np.array([len(row) for row in nodes])\n",
    "plotHeatMap(n, allCenters, os.path.join(os.getcwd(), 'US-heatmap.png'), fig=fig, marker='.', s=s, lw=0, cmap='hot')\n",
    "ax.set_ylim(np.min(allCenters[:,0])-1, 51)\n",
    "ax.set_xlim(-126, np.max(allCenters[:,1])+1)\n",
    "fig.savefig('US-heatmap.png')"
   ]
  },
  {
   "cell_type": "code",
   "execution_count": null,
   "metadata": {},
   "outputs": [],
   "source": [
    "state = 'new-york'\n",
    "csvPath = os.path.join(os.getcwd(), 'data', 'csvs', f'{state}-out.csv')\n",
    "pklPath = os.path.join(os.getcwd(), 'data', 'pickle', f'{state}-out.pkl')\n",
    "csv, nodes, centers = io(csvPath, pklPath)\n",
    "\n",
    "n = [len(row) for row in nodes]\n",
    "\n",
    "lat = centers[:,0]\n",
    "long = centers[:,1]\n",
    "\n",
    "fig, ax = plt.subplots()\n",
    "    \n",
    "im = ax.scatter(long, lat, c=n, norm=LogNorm(), marker='s', s=100, cmap='hot')\n",
    "fig.colorbar(im, label='Number of Chargering Sites')\n",
    "ax.set_ylabel('Latitude [deg]')\n",
    "ax.set_xlabel('Longitude [deg]')\n",
    "ax.set_xlim(-80, -71)\n",
    "ax.set_ylim(40, 46)\n",
    "fig.savefig('NY-heatmap.png')"
   ]
  },
  {
   "cell_type": "code",
   "execution_count": null,
   "metadata": {
    "tags": []
   },
   "outputs": [],
   "source": [
    "# histogram number of chargers per state\n",
    "fig, ax = plt.subplots()\n",
    "\n",
    "group = netNodes.groupby('state_name')\n",
    "\n",
    "count = np.array(group.state_name.count())\n",
    "totals = np.sort(count)\n",
    "idx = np.argsort(count)\n",
    "stateNames = np.array(np.concatenate(group.state_name.unique()))[np.argsort(count)]\n",
    "xticks = [s.replace('-', ' ') for s in stateNames]\n",
    "\n",
    "xticks_abbrv = ['DE', 'RI', 'ND', 'VT', 'WY', 'DC', 'NH', 'SD', 'ME', 'ID', 'TN', 'KY', 'NV', 'MT', 'NM', 'CT', 'WV', 'LA', 'KS', 'OK', 'UT', 'NE', 'MS', 'AR', 'SC', 'IN', 'IA', 'MD', 'NJ', 'MN', 'AL', 'MO', 'MA', 'WI', 'NC', 'OR', 'GA', 'MI', 'IL', 'VA', 'CO', 'PA', 'WA', 'OH', 'AZ', 'NY', 'FL', 'TX', 'CA']\n",
    "\n",
    "bins = np.arange(len(xticks))\n",
    "ax.bar(bins, height=totals, edgecolor='k', tick_label=xticks_abbrv)\n",
    "ax.set_xticklabels(xticks_abbrv, rotation=-90)\n",
    "ax.set_ylabel('Number of Electric Charging Sites')\n",
    "ax.set_xlabel('State Name')"
   ]
  },
  {
   "cell_type": "code",
   "execution_count": null,
   "metadata": {
    "tags": []
   },
   "outputs": [],
   "source": [
    "# generate some state\n",
    "nChargers = len(netNodes)\n",
    "print(f'Number of Chargers: {nChargers}')\n",
    "\n",
    "nUsesPerDay = 24 # assumes half hour charging time and 24 hours of charging per day\n",
    "nChargersPerSite = 10\n",
    "nPeople = nChargers*nUsesPerDay*nChargersPerSite\n",
    "print(f'Number of Uses Per Day: {nPeople}')\n",
    "\n",
    "usPop = 334679458\n",
    "print(f'Fraction of US population that can use a public charger: {(nPeople/usPop)*100}')"
   ]
  },
  {
   "cell_type": "code",
   "execution_count": null,
   "metadata": {
    "tags": []
   },
   "outputs": [],
   "source": [
    "# save the merged dataframe\n",
    "# have to chunk it to upload it to my google maps\n",
    "\n",
    "print(netNodes)\n",
    "\n",
    "netNodes.to_csv(os.path.join(os.getcwd(), 'data', f'charging-network.csv'), index=False)\n",
    "\n",
    "'''\n",
    "state = 'new-york'\n",
    "\n",
    "stateNodes = netNodes[netNodes['state_name'] == state].reset_index(drop=True)\n",
    "print(stateNodes)\n",
    "\n",
    "nRows = 2000\n",
    "curr = 0\n",
    "\n",
    "while curr < len(stateNodes):\n",
    "    \n",
    "    if nRows >= len(stateNodes):\n",
    "        nRows = -1\n",
    "    \n",
    "    chunk = stateNodes.iloc[curr:curr+nRows]\n",
    "    print(chunk)\n",
    "    chunk.to_csv(os.path.join(os.getcwd(), 'data', f'{state}-charging-network-{curr}.csv'), index=False)\n",
    "    \n",
    "    curr += nRows\n",
    "    '''"
   ]
  },
  {
   "cell_type": "code",
   "execution_count": null,
   "metadata": {},
   "outputs": [],
   "source": []
  }
 ],
 "metadata": {
  "kernelspec": {
   "display_name": "ChargingNetwork",
   "language": "python",
   "name": "chargingnetwork"
  },
  "language_info": {
   "codemirror_mode": {
    "name": "ipython",
    "version": 3
   },
   "file_extension": ".py",
   "mimetype": "text/x-python",
   "name": "python",
   "nbconvert_exporter": "python",
   "pygments_lexer": "ipython3",
   "version": "3.8.16"
  }
 },
 "nbformat": 4,
 "nbformat_minor": 4
}
